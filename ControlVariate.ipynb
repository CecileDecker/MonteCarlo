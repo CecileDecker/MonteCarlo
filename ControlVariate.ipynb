{
 "cells": [
  {
   "attachments": {},
   "cell_type": "markdown",
   "metadata": {},
   "source": [
    "The problem consist of estimating the price of a European call option which underlying stock price satisfies:"
   ]
  },
  {
   "attachments": {},
   "cell_type": "markdown",
   "metadata": {},
   "source": [
    "$dS_t = r S_t dt + (\\sigma^2+\\mu^2S_t^2)^{1/2} dW_t$"
   ]
  },
  {
   "cell_type": "code",
   "execution_count": 1,
   "metadata": {},
   "outputs": [],
   "source": [
    "from math import *\n",
    "import numpy as np"
   ]
  },
  {
   "cell_type": "code",
   "execution_count": 2,
   "metadata": {},
   "outputs": [],
   "source": [
    "S_0 = 50\n",
    "r   = 0.03\n",
    "K   = 50\n",
    "T   = 1\n",
    "m   = 30\n",
    "D_t = T / m\n",
    "sig = 2\n",
    "mu  = 0.2\n",
    "n   = 10_000"
   ]
  },
  {
   "attachments": {},
   "cell_type": "markdown",
   "metadata": {},
   "source": [
    "Method 1: Plain Monte Carlo"
   ]
  },
  {
   "cell_type": "code",
   "execution_count": 3,
   "metadata": {},
   "outputs": [],
   "source": [
    "X = []\n",
    "for k in range(n):\n",
    "    S_T = S_0\n",
    "    for i in range(m):\n",
    "        Zk_i = np.random.normal()\n",
    "        S_T += r*S_T*D_t + sqrt(sig**2 + mu**2*S_T**2)*sqrt(D_t)*Zk_i\n",
    "    X += [exp(-r*T)*max(0, S_T - K)]\n",
    "\n",
    "MC_v_chap = 0\n",
    "MC_S_E    = 0\n",
    "for k in range(n):\n",
    "    MC_v_chap += X[k]\n",
    "    MC_S_E    += (X[k])**2\n",
    "MC_v_chap = MC_v_chap / n\n",
    "MC_S_E    = sqrt((MC_S_E - n*(MC_v_chap**2)) / (n*(n-1)))\n"
   ]
  },
  {
   "attachments": {},
   "cell_type": "markdown",
   "metadata": {},
   "source": [
    "Method 2: Control Variate"
   ]
  },
  {
   "cell_type": "code",
   "execution_count": 4,
   "metadata": {},
   "outputs": [],
   "source": [
    "X = []\n",
    "Y = []\n",
    "for k in range(n):\n",
    "    S_T_chap = S_0\n",
    "    S_T_bar  = S_0\n",
    "    for i in range(m):\n",
    "        Zk_i = np.random.normal()\n",
    "        S_T_chap += r*S_T_chap*D_t + sqrt(sig**2 + mu**2*S_T_chap**2)*sqrt(D_t)*Zk_i\n",
    "        S_T_bar  += r*S_T_bar*D_t + mu*S_T_bar*sqrt(D_t)*Zk_i\n",
    "    X += [exp(-r*T)*max(0, S_T_chap - K)]\n",
    "    Y += [exp(-r*T)*max(0, S_T_bar - K)]\n",
    "\n",
    "X_bar = sum(X) / n\n",
    "Y_bar = sum(Y) / n\n",
    "b_star = 0\n",
    "var_Y  = 0\n",
    "for k in range(n):\n",
    "    b_star += (X[k] - X_bar)*(Y[k] - Y_bar)\n",
    "    var_Y  += (Y[k] - Y_bar)**2\n",
    "b_star /= var_Y\n",
    "\n",
    "H = []\n",
    "for k in range(n):\n",
    "    H += [X[k] - b_star*(Y[k] - max(0, S_0 - exp(-r*T)*K))]\n",
    "\n",
    "CV_v_chap = 0\n",
    "CV_S_E    = 0\n",
    "for k in range(n):\n",
    "    CV_v_chap += H[k]\n",
    "    CV_S_E    += (H[k])**2\n",
    "CV_v_chap = CV_v_chap / n\n",
    "CV_S_E    = sqrt((CV_S_E - n*(CV_v_chap**2)) / (n*(n-1)))"
   ]
  },
  {
   "cell_type": "code",
   "execution_count": 5,
   "metadata": {},
   "outputs": [
    {
     "data": {
      "text/plain": [
       "4.848640756751602"
      ]
     },
     "execution_count": 5,
     "metadata": {},
     "output_type": "execute_result"
    }
   ],
   "source": [
    "MC_v_chap"
   ]
  },
  {
   "cell_type": "code",
   "execution_count": 6,
   "metadata": {},
   "outputs": [
    {
     "data": {
      "text/plain": [
       "1.5025865276556112"
      ]
     },
     "execution_count": 6,
     "metadata": {},
     "output_type": "execute_result"
    }
   ],
   "source": [
    "CV_v_chap"
   ]
  },
  {
   "cell_type": "code",
   "execution_count": 7,
   "metadata": {},
   "outputs": [
    {
     "data": {
      "text/plain": [
       "0.07246812687078298"
      ]
     },
     "execution_count": 7,
     "metadata": {},
     "output_type": "execute_result"
    }
   ],
   "source": [
    "MC_S_E"
   ]
  },
  {
   "cell_type": "code",
   "execution_count": 8,
   "metadata": {},
   "outputs": [
    {
     "data": {
      "text/plain": [
       "6.764026318986143e-05"
      ]
     },
     "execution_count": 8,
     "metadata": {},
     "output_type": "execute_result"
    }
   ],
   "source": [
    "CV_S_E"
   ]
  }
 ],
 "metadata": {
  "kernelspec": {
   "display_name": "Python 3",
   "language": "python",
   "name": "python3"
  },
  "language_info": {
   "codemirror_mode": {
    "name": "ipython",
    "version": 3
   },
   "file_extension": ".py",
   "mimetype": "text/x-python",
   "name": "python",
   "nbconvert_exporter": "python",
   "pygments_lexer": "ipython3",
   "version": "3.10.11"
  },
  "orig_nbformat": 4
 },
 "nbformat": 4,
 "nbformat_minor": 2
}
