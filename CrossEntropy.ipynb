{
 "cells": [
  {
   "attachments": {},
   "cell_type": "markdown",
   "metadata": {},
   "source": [
    "The problem consist of estimating: $P(\\min\\{X+Y, Y+2Z+1\\}\\geq b)$"
   ]
  },
  {
   "attachments": {},
   "cell_type": "markdown",
   "metadata": {},
   "source": [
    "Note that $X,\\ Y,\\ Z$, are standard normal variables"
   ]
  },
  {
   "cell_type": "code",
   "execution_count": 1,
   "metadata": {},
   "outputs": [],
   "source": [
    "from math import *\n",
    "import numpy as np"
   ]
  },
  {
   "cell_type": "code",
   "execution_count": 2,
   "metadata": {},
   "outputs": [],
   "source": [
    "n = 10_000\n",
    "N = 2_000\n",
    "B = [1, 2, 3]"
   ]
  },
  {
   "attachments": {},
   "cell_type": "markdown",
   "metadata": {},
   "source": [
    "Method 1: Plain Monte Carlo"
   ]
  },
  {
   "cell_type": "code",
   "execution_count": 3,
   "metadata": {},
   "outputs": [],
   "source": [
    "MC_P_chap_b = []\n",
    "MC_S_E_b    = []\n",
    "\n",
    "for b in B:\n",
    "\n",
    "    p = []\n",
    "\n",
    "    for i in range(n):\n",
    "        X_i, Y_i, Z_i = np.random.normal(), np.random.normal(), np.random.normal()\n",
    "        S_i           = min(X_i + Z_i, Y_i + 2*Z_i + 1)\n",
    "        if S_i >= b:\n",
    "            p += [1]\n",
    "        else:\n",
    "            p += [0]\n",
    "\n",
    "    p_chap = 0\n",
    "    S_E    = 0\n",
    "    for i in range(n):\n",
    "        p_chap += p[i]\n",
    "        S_E    += (p[i])**2\n",
    "    p_chap = p_chap / n\n",
    "    S_E    = sqrt((S_E - n*(p_chap**2)) / (n*(n-1)))\n",
    "\n",
    "    MC_P_chap_b += [p_chap]\n",
    "    MC_S_E_b    += [S_E]"
   ]
  },
  {
   "attachments": {},
   "cell_type": "markdown",
   "metadata": {},
   "source": [
    "Method 2: Cross-Entropy"
   ]
  },
  {
   "cell_type": "code",
   "execution_count": 4,
   "metadata": {},
   "outputs": [],
   "source": [
    "CE_P_chap_b = []\n",
    "CE_S_E_b    = []\n",
    "\n",
    "for b in B:\n",
    "\n",
    "    X_N, Y_N, Z_N = [], [], []\n",
    "    h_N           = []\n",
    "    for k in range(N):\n",
    "        X_k, Y_k, Z_k = np.random.normal(), np.random.normal(), np.random.normal()\n",
    "        S_k           = min(X_k + Z_k, Y_k + 2*Z_k + 1)\n",
    "        if S_i >= b:\n",
    "            h_N += [1]\n",
    "        else:\n",
    "            h_N += [0]\n",
    "        X_N += [X_k]\n",
    "        Y_N += [Y_k]\n",
    "        Z_N += [Z_k]\n",
    "    Theta_chap_x = 0\n",
    "    Theta_chap_y = 0\n",
    "    Theta_chap_z = 0\n",
    "    for k in range(N):\n",
    "        Theta_chap_x += h_N[k]*X_N[k]\n",
    "        Theta_chap_y += h_N[k]*Y_N[k]\n",
    "        Theta_chap_z += h_N[k]*Z_N[k]\n",
    "    if sum(h_N) != 0:\n",
    "        Theta_chap_x /= sum(h_N)\n",
    "        Theta_chap_y /= sum(h_N)\n",
    "        Theta_chap_z /= sum(h_N)\n",
    "\n",
    "    p = []\n",
    "\n",
    "    for i in range(n):\n",
    "        X_i, Y_i, Z_i = np.random.normal(Theta_chap_x), np.random.normal(Theta_chap_y), np.random.normal(Theta_chap_z)\n",
    "        S_i           = min(X_i + Z_i, Y_i + 2*Z_i + 1)\n",
    "        if S_i >= b:\n",
    "            h_i = 1\n",
    "        else:\n",
    "            h_i = 0\n",
    "        p += [h_i*exp(-(Theta_chap_x*X_i + Theta_chap_y*Y_i + Theta_chap_z*Z_i) + (Theta_chap_x**2 + Theta_chap_y**2 + Theta_chap_z**2)/2)]\n",
    "\n",
    "    p_chap = 0\n",
    "    S_E    = 0\n",
    "    for i in range(n):\n",
    "        p_chap += p[i]\n",
    "        S_E    += (p[i])**2\n",
    "    p_chap = p_chap / n\n",
    "    S_E    = sqrt((S_E - n*(p_chap**2)) / (n*(n-1)))\n",
    "\n",
    "    CE_P_chap_b += [p_chap]\n",
    "    CE_S_E_b    += [S_E]"
   ]
  },
  {
   "cell_type": "code",
   "execution_count": 5,
   "metadata": {},
   "outputs": [
    {
     "data": {
      "text/plain": [
       "[0.2041, 0.0685, 0.0154]"
      ]
     },
     "execution_count": 5,
     "metadata": {},
     "output_type": "execute_result"
    }
   ],
   "source": [
    "MC_P_chap_b"
   ]
  },
  {
   "cell_type": "code",
   "execution_count": 6,
   "metadata": {},
   "outputs": [
    {
     "data": {
      "text/plain": [
       "[0.206, 0.0671, 0.0112]"
      ]
     },
     "execution_count": 6,
     "metadata": {},
     "output_type": "execute_result"
    }
   ],
   "source": [
    "CE_P_chap_b"
   ]
  },
  {
   "cell_type": "code",
   "execution_count": 7,
   "metadata": {},
   "outputs": [
    {
     "data": {
      "text/plain": [
       "[0.004030625707549565, 0.002526145906576683, 0.0012314364147467608]"
      ]
     },
     "execution_count": 7,
     "metadata": {},
     "output_type": "execute_result"
    }
   ],
   "source": [
    "MC_S_E_b"
   ]
  },
  {
   "cell_type": "code",
   "execution_count": 8,
   "metadata": {},
   "outputs": [
    {
     "data": {
      "text/plain": [
       "[0.004044506867787513, 0.0025020761456246393, 0.001052409975568299]"
      ]
     },
     "execution_count": 8,
     "metadata": {},
     "output_type": "execute_result"
    }
   ],
   "source": [
    "CE_S_E_b"
   ]
  }
 ],
 "metadata": {
  "kernelspec": {
   "display_name": "Python 3",
   "language": "python",
   "name": "python3"
  },
  "language_info": {
   "codemirror_mode": {
    "name": "ipython",
    "version": 3
   },
   "file_extension": ".py",
   "mimetype": "text/x-python",
   "name": "python",
   "nbconvert_exporter": "python",
   "pygments_lexer": "ipython3",
   "version": "3.10.11"
  },
  "orig_nbformat": 4
 },
 "nbformat": 4,
 "nbformat_minor": 2
}
